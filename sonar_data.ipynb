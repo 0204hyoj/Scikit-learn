{
  "nbformat": 4,
  "nbformat_minor": 0,
  "metadata": {
    "colab": {
      "provenance": [],
      "authorship_tag": "ABX9TyOzJ/MasMjzcpyRSXuhWZSL",
      "include_colab_link": true
    },
    "kernelspec": {
      "name": "python3",
      "display_name": "Python 3"
    },
    "language_info": {
      "name": "python"
    }
  },
  "cells": [
    {
      "cell_type": "markdown",
      "metadata": {
        "id": "view-in-github",
        "colab_type": "text"
      },
      "source": [
        "<a href=\"https://colab.research.google.com/github/0204hyoj/Scikit-learn/blob/main/sonar_data.ipynb\" target=\"_parent\"><img src=\"https://colab.research.google.com/assets/colab-badge.svg\" alt=\"Open In Colab\"/></a>"
      ]
    },
    {
      "cell_type": "code",
      "execution_count": null,
      "metadata": {
        "id": "b5qmMu6p1i8W"
      },
      "outputs": [],
      "source": [
        "# 라이브러리 import\n",
        "import numpy as np\n",
        "import pandas as pd\n",
        "import seaborn as sns\n",
        "import matplotlib.pyplot as plt\n",
        "\n",
        "from sklearn.model_selection import train_test_split\n",
        "\n",
        "from sklearn.ensemble import RandomForestClassifier\n",
        "\n",
        "from sklearn.model_selection import GridSearchCV,\\\n",
        "RandomizedSearchCV\n",
        "from sklearn.metrics import classification_report\n",
        "from sklearn.metrics import accuracy_score"
      ]
    },
    {
      "cell_type": "markdown",
      "source": [
        "DATA확인"
      ],
      "metadata": {
        "id": "B_u_Z_aj9Oa3"
      }
    },
    {
      "cell_type": "code",
      "source": [
        "# pandas로 데이터프레임 불러오기\n",
        "sonar = pd.read_csv('sonar_dataset.csv', header=None)"
      ],
      "metadata": {
        "id": "jKNdh9xh3DNW"
      },
      "execution_count": null,
      "outputs": []
    },
    {
      "cell_type": "code",
      "source": [
        "# 행,열 수 확인\n",
        "sonar.shape"
      ],
      "metadata": {
        "colab": {
          "base_uri": "https://localhost:8080/"
        },
        "id": "WyCg04RQ6H0I",
        "outputId": "bd7dcdef-305b-4c29-b1b2-eb1d90bf71b9"
      },
      "execution_count": null,
      "outputs": [
        {
          "output_type": "execute_result",
          "data": {
            "text/plain": [
              "(122, 61)"
            ]
          },
          "metadata": {},
          "execution_count": 115
        }
      ]
    },
    {
      "cell_type": "code",
      "source": [
        "# 평가\n",
        "sonar.describe()"
      ],
      "metadata": {
        "colab": {
          "base_uri": "https://localhost:8080/",
          "height": 394
        },
        "id": "FtFX4Lgr6OdY",
        "outputId": "b0dabc19-f9f7-4116-e81d-3b8444a297ab"
      },
      "execution_count": null,
      "outputs": [
        {
          "output_type": "execute_result",
          "data": {
            "text/plain": [
              "               0           1           2           3           4           5   \\\n",
              "count  122.000000  122.000000  122.000000  122.000000  122.000000  122.000000   \n",
              "mean     0.033785    0.043732    0.049192    0.061638    0.083598    0.109499   \n",
              "std      0.026253    0.037002    0.043096    0.053409    0.058611    0.054146   \n",
              "min      0.001500    0.001700    0.001500    0.006100    0.007600    0.011600   \n",
              "25%      0.017925    0.018075    0.022600    0.025700    0.044175    0.075850   \n",
              "50%      0.026050    0.033950    0.038500    0.051850    0.072250    0.104350   \n",
              "75%      0.041175    0.056100    0.062650    0.079050    0.107375    0.142725   \n",
              "max      0.137100    0.233900    0.305900    0.426400    0.401000    0.277000   \n",
              "\n",
              "               6           7           8           9   ...          50  \\\n",
              "count  122.000000  122.000000  122.000000  122.000000  ...  122.000000   \n",
              "mean     0.124928    0.145372    0.206346    0.239338  ...    0.018506   \n",
              "std      0.058798    0.088483    0.121950    0.137618  ...    0.013327   \n",
              "min      0.013000    0.005500    0.036800    0.011300  ...    0.000000   \n",
              "25%      0.083725    0.091250    0.126700    0.145200  ...    0.011875   \n",
              "50%      0.116800    0.122200    0.178900    0.214050  ...    0.016650   \n",
              "75%      0.159200    0.172600    0.260550    0.293150  ...    0.022675   \n",
              "max      0.332200    0.459000    0.682800    0.710600  ...    0.100400   \n",
              "\n",
              "               51          52          53          54          55          56  \\\n",
              "count  122.000000  122.000000  122.000000  122.000000  117.000000  122.000000   \n",
              "mean     0.015332    0.011462    0.012077    0.009739    0.008783    0.007811   \n",
              "std      0.010603    0.007670    0.008182    0.008202    0.006426    0.005888   \n",
              "min      0.001300    0.000500    0.001000    0.001200    0.000700    0.000700   \n",
              "25%      0.008675    0.005925    0.005950    0.003825    0.004200    0.003550   \n",
              "50%      0.012300    0.009850    0.009700    0.007200    0.007300    0.005850   \n",
              "75%      0.018075    0.015825    0.015875    0.012850    0.012100    0.010675   \n",
              "max      0.070900    0.039000    0.035200    0.044700    0.039400    0.035500   \n",
              "\n",
              "               57          58          59  \n",
              "count  122.000000  122.000000  122.000000  \n",
              "mean     0.008767    0.008559    0.006797  \n",
              "std      0.007266    0.006662    0.005788  \n",
              "min      0.000600    0.000100    0.000600  \n",
              "25%      0.003975    0.004075    0.003125  \n",
              "50%      0.006800    0.007000    0.005150  \n",
              "75%      0.011375    0.011275    0.009200  \n",
              "max      0.044000    0.036400    0.043900  \n",
              "\n",
              "[8 rows x 60 columns]"
            ],
            "text/html": [
              "\n",
              "  <div id=\"df-f98b7f53-189a-4d7b-b0f0-fa1204b0d9ab\">\n",
              "    <div class=\"colab-df-container\">\n",
              "      <div>\n",
              "<style scoped>\n",
              "    .dataframe tbody tr th:only-of-type {\n",
              "        vertical-align: middle;\n",
              "    }\n",
              "\n",
              "    .dataframe tbody tr th {\n",
              "        vertical-align: top;\n",
              "    }\n",
              "\n",
              "    .dataframe thead th {\n",
              "        text-align: right;\n",
              "    }\n",
              "</style>\n",
              "<table border=\"1\" class=\"dataframe\">\n",
              "  <thead>\n",
              "    <tr style=\"text-align: right;\">\n",
              "      <th></th>\n",
              "      <th>0</th>\n",
              "      <th>1</th>\n",
              "      <th>2</th>\n",
              "      <th>3</th>\n",
              "      <th>4</th>\n",
              "      <th>5</th>\n",
              "      <th>6</th>\n",
              "      <th>7</th>\n",
              "      <th>8</th>\n",
              "      <th>9</th>\n",
              "      <th>...</th>\n",
              "      <th>50</th>\n",
              "      <th>51</th>\n",
              "      <th>52</th>\n",
              "      <th>53</th>\n",
              "      <th>54</th>\n",
              "      <th>55</th>\n",
              "      <th>56</th>\n",
              "      <th>57</th>\n",
              "      <th>58</th>\n",
              "      <th>59</th>\n",
              "    </tr>\n",
              "  </thead>\n",
              "  <tbody>\n",
              "    <tr>\n",
              "      <th>count</th>\n",
              "      <td>122.000000</td>\n",
              "      <td>122.000000</td>\n",
              "      <td>122.000000</td>\n",
              "      <td>122.000000</td>\n",
              "      <td>122.000000</td>\n",
              "      <td>122.000000</td>\n",
              "      <td>122.000000</td>\n",
              "      <td>122.000000</td>\n",
              "      <td>122.000000</td>\n",
              "      <td>122.000000</td>\n",
              "      <td>...</td>\n",
              "      <td>122.000000</td>\n",
              "      <td>122.000000</td>\n",
              "      <td>122.000000</td>\n",
              "      <td>122.000000</td>\n",
              "      <td>122.000000</td>\n",
              "      <td>117.000000</td>\n",
              "      <td>122.000000</td>\n",
              "      <td>122.000000</td>\n",
              "      <td>122.000000</td>\n",
              "      <td>122.000000</td>\n",
              "    </tr>\n",
              "    <tr>\n",
              "      <th>mean</th>\n",
              "      <td>0.033785</td>\n",
              "      <td>0.043732</td>\n",
              "      <td>0.049192</td>\n",
              "      <td>0.061638</td>\n",
              "      <td>0.083598</td>\n",
              "      <td>0.109499</td>\n",
              "      <td>0.124928</td>\n",
              "      <td>0.145372</td>\n",
              "      <td>0.206346</td>\n",
              "      <td>0.239338</td>\n",
              "      <td>...</td>\n",
              "      <td>0.018506</td>\n",
              "      <td>0.015332</td>\n",
              "      <td>0.011462</td>\n",
              "      <td>0.012077</td>\n",
              "      <td>0.009739</td>\n",
              "      <td>0.008783</td>\n",
              "      <td>0.007811</td>\n",
              "      <td>0.008767</td>\n",
              "      <td>0.008559</td>\n",
              "      <td>0.006797</td>\n",
              "    </tr>\n",
              "    <tr>\n",
              "      <th>std</th>\n",
              "      <td>0.026253</td>\n",
              "      <td>0.037002</td>\n",
              "      <td>0.043096</td>\n",
              "      <td>0.053409</td>\n",
              "      <td>0.058611</td>\n",
              "      <td>0.054146</td>\n",
              "      <td>0.058798</td>\n",
              "      <td>0.088483</td>\n",
              "      <td>0.121950</td>\n",
              "      <td>0.137618</td>\n",
              "      <td>...</td>\n",
              "      <td>0.013327</td>\n",
              "      <td>0.010603</td>\n",
              "      <td>0.007670</td>\n",
              "      <td>0.008182</td>\n",
              "      <td>0.008202</td>\n",
              "      <td>0.006426</td>\n",
              "      <td>0.005888</td>\n",
              "      <td>0.007266</td>\n",
              "      <td>0.006662</td>\n",
              "      <td>0.005788</td>\n",
              "    </tr>\n",
              "    <tr>\n",
              "      <th>min</th>\n",
              "      <td>0.001500</td>\n",
              "      <td>0.001700</td>\n",
              "      <td>0.001500</td>\n",
              "      <td>0.006100</td>\n",
              "      <td>0.007600</td>\n",
              "      <td>0.011600</td>\n",
              "      <td>0.013000</td>\n",
              "      <td>0.005500</td>\n",
              "      <td>0.036800</td>\n",
              "      <td>0.011300</td>\n",
              "      <td>...</td>\n",
              "      <td>0.000000</td>\n",
              "      <td>0.001300</td>\n",
              "      <td>0.000500</td>\n",
              "      <td>0.001000</td>\n",
              "      <td>0.001200</td>\n",
              "      <td>0.000700</td>\n",
              "      <td>0.000700</td>\n",
              "      <td>0.000600</td>\n",
              "      <td>0.000100</td>\n",
              "      <td>0.000600</td>\n",
              "    </tr>\n",
              "    <tr>\n",
              "      <th>25%</th>\n",
              "      <td>0.017925</td>\n",
              "      <td>0.018075</td>\n",
              "      <td>0.022600</td>\n",
              "      <td>0.025700</td>\n",
              "      <td>0.044175</td>\n",
              "      <td>0.075850</td>\n",
              "      <td>0.083725</td>\n",
              "      <td>0.091250</td>\n",
              "      <td>0.126700</td>\n",
              "      <td>0.145200</td>\n",
              "      <td>...</td>\n",
              "      <td>0.011875</td>\n",
              "      <td>0.008675</td>\n",
              "      <td>0.005925</td>\n",
              "      <td>0.005950</td>\n",
              "      <td>0.003825</td>\n",
              "      <td>0.004200</td>\n",
              "      <td>0.003550</td>\n",
              "      <td>0.003975</td>\n",
              "      <td>0.004075</td>\n",
              "      <td>0.003125</td>\n",
              "    </tr>\n",
              "    <tr>\n",
              "      <th>50%</th>\n",
              "      <td>0.026050</td>\n",
              "      <td>0.033950</td>\n",
              "      <td>0.038500</td>\n",
              "      <td>0.051850</td>\n",
              "      <td>0.072250</td>\n",
              "      <td>0.104350</td>\n",
              "      <td>0.116800</td>\n",
              "      <td>0.122200</td>\n",
              "      <td>0.178900</td>\n",
              "      <td>0.214050</td>\n",
              "      <td>...</td>\n",
              "      <td>0.016650</td>\n",
              "      <td>0.012300</td>\n",
              "      <td>0.009850</td>\n",
              "      <td>0.009700</td>\n",
              "      <td>0.007200</td>\n",
              "      <td>0.007300</td>\n",
              "      <td>0.005850</td>\n",
              "      <td>0.006800</td>\n",
              "      <td>0.007000</td>\n",
              "      <td>0.005150</td>\n",
              "    </tr>\n",
              "    <tr>\n",
              "      <th>75%</th>\n",
              "      <td>0.041175</td>\n",
              "      <td>0.056100</td>\n",
              "      <td>0.062650</td>\n",
              "      <td>0.079050</td>\n",
              "      <td>0.107375</td>\n",
              "      <td>0.142725</td>\n",
              "      <td>0.159200</td>\n",
              "      <td>0.172600</td>\n",
              "      <td>0.260550</td>\n",
              "      <td>0.293150</td>\n",
              "      <td>...</td>\n",
              "      <td>0.022675</td>\n",
              "      <td>0.018075</td>\n",
              "      <td>0.015825</td>\n",
              "      <td>0.015875</td>\n",
              "      <td>0.012850</td>\n",
              "      <td>0.012100</td>\n",
              "      <td>0.010675</td>\n",
              "      <td>0.011375</td>\n",
              "      <td>0.011275</td>\n",
              "      <td>0.009200</td>\n",
              "    </tr>\n",
              "    <tr>\n",
              "      <th>max</th>\n",
              "      <td>0.137100</td>\n",
              "      <td>0.233900</td>\n",
              "      <td>0.305900</td>\n",
              "      <td>0.426400</td>\n",
              "      <td>0.401000</td>\n",
              "      <td>0.277000</td>\n",
              "      <td>0.332200</td>\n",
              "      <td>0.459000</td>\n",
              "      <td>0.682800</td>\n",
              "      <td>0.710600</td>\n",
              "      <td>...</td>\n",
              "      <td>0.100400</td>\n",
              "      <td>0.070900</td>\n",
              "      <td>0.039000</td>\n",
              "      <td>0.035200</td>\n",
              "      <td>0.044700</td>\n",
              "      <td>0.039400</td>\n",
              "      <td>0.035500</td>\n",
              "      <td>0.044000</td>\n",
              "      <td>0.036400</td>\n",
              "      <td>0.043900</td>\n",
              "    </tr>\n",
              "  </tbody>\n",
              "</table>\n",
              "<p>8 rows × 60 columns</p>\n",
              "</div>\n",
              "      <button class=\"colab-df-convert\" onclick=\"convertToInteractive('df-f98b7f53-189a-4d7b-b0f0-fa1204b0d9ab')\"\n",
              "              title=\"Convert this dataframe to an interactive table.\"\n",
              "              style=\"display:none;\">\n",
              "        \n",
              "  <svg xmlns=\"http://www.w3.org/2000/svg\" height=\"24px\"viewBox=\"0 0 24 24\"\n",
              "       width=\"24px\">\n",
              "    <path d=\"M0 0h24v24H0V0z\" fill=\"none\"/>\n",
              "    <path d=\"M18.56 5.44l.94 2.06.94-2.06 2.06-.94-2.06-.94-.94-2.06-.94 2.06-2.06.94zm-11 1L8.5 8.5l.94-2.06 2.06-.94-2.06-.94L8.5 2.5l-.94 2.06-2.06.94zm10 10l.94 2.06.94-2.06 2.06-.94-2.06-.94-.94-2.06-.94 2.06-2.06.94z\"/><path d=\"M17.41 7.96l-1.37-1.37c-.4-.4-.92-.59-1.43-.59-.52 0-1.04.2-1.43.59L10.3 9.45l-7.72 7.72c-.78.78-.78 2.05 0 2.83L4 21.41c.39.39.9.59 1.41.59.51 0 1.02-.2 1.41-.59l7.78-7.78 2.81-2.81c.8-.78.8-2.07 0-2.86zM5.41 20L4 18.59l7.72-7.72 1.47 1.35L5.41 20z\"/>\n",
              "  </svg>\n",
              "      </button>\n",
              "      \n",
              "  <style>\n",
              "    .colab-df-container {\n",
              "      display:flex;\n",
              "      flex-wrap:wrap;\n",
              "      gap: 12px;\n",
              "    }\n",
              "\n",
              "    .colab-df-convert {\n",
              "      background-color: #E8F0FE;\n",
              "      border: none;\n",
              "      border-radius: 50%;\n",
              "      cursor: pointer;\n",
              "      display: none;\n",
              "      fill: #1967D2;\n",
              "      height: 32px;\n",
              "      padding: 0 0 0 0;\n",
              "      width: 32px;\n",
              "    }\n",
              "\n",
              "    .colab-df-convert:hover {\n",
              "      background-color: #E2EBFA;\n",
              "      box-shadow: 0px 1px 2px rgba(60, 64, 67, 0.3), 0px 1px 3px 1px rgba(60, 64, 67, 0.15);\n",
              "      fill: #174EA6;\n",
              "    }\n",
              "\n",
              "    [theme=dark] .colab-df-convert {\n",
              "      background-color: #3B4455;\n",
              "      fill: #D2E3FC;\n",
              "    }\n",
              "\n",
              "    [theme=dark] .colab-df-convert:hover {\n",
              "      background-color: #434B5C;\n",
              "      box-shadow: 0px 1px 3px 1px rgba(0, 0, 0, 0.15);\n",
              "      filter: drop-shadow(0px 1px 2px rgba(0, 0, 0, 0.3));\n",
              "      fill: #FFFFFF;\n",
              "    }\n",
              "  </style>\n",
              "\n",
              "      <script>\n",
              "        const buttonEl =\n",
              "          document.querySelector('#df-f98b7f53-189a-4d7b-b0f0-fa1204b0d9ab button.colab-df-convert');\n",
              "        buttonEl.style.display =\n",
              "          google.colab.kernel.accessAllowed ? 'block' : 'none';\n",
              "\n",
              "        async function convertToInteractive(key) {\n",
              "          const element = document.querySelector('#df-f98b7f53-189a-4d7b-b0f0-fa1204b0d9ab');\n",
              "          const dataTable =\n",
              "            await google.colab.kernel.invokeFunction('convertToInteractive',\n",
              "                                                     [key], {});\n",
              "          if (!dataTable) return;\n",
              "\n",
              "          const docLinkHtml = 'Like what you see? Visit the ' +\n",
              "            '<a target=\"_blank\" href=https://colab.research.google.com/notebooks/data_table.ipynb>data table notebook</a>'\n",
              "            + ' to learn more about interactive tables.';\n",
              "          element.innerHTML = '';\n",
              "          dataTable['output_type'] = 'display_data';\n",
              "          await google.colab.output.renderOutput(dataTable, element);\n",
              "          const docLink = document.createElement('div');\n",
              "          docLink.innerHTML = docLinkHtml;\n",
              "          element.appendChild(docLink);\n",
              "        }\n",
              "      </script>\n",
              "    </div>\n",
              "  </div>\n",
              "  "
            ]
          },
          "metadata": {},
          "execution_count": 116
        }
      ]
    },
    {
      "cell_type": "code",
      "source": [
        "# 결측값 확인\n",
        "sonar.isnull().sum()"
      ],
      "metadata": {
        "colab": {
          "base_uri": "https://localhost:8080/"
        },
        "id": "gpIjXr_H6ZFF",
        "outputId": "64eb20bc-ac48-4842-9f49-488a2aeee0c2"
      },
      "execution_count": null,
      "outputs": [
        {
          "output_type": "execute_result",
          "data": {
            "text/plain": [
              "0     0\n",
              "1     0\n",
              "2     0\n",
              "3     0\n",
              "4     0\n",
              "     ..\n",
              "56    0\n",
              "57    0\n",
              "58    0\n",
              "59    0\n",
              "60    0\n",
              "Length: 61, dtype: int64"
            ]
          },
          "metadata": {},
          "execution_count": 117
        }
      ]
    },
    {
      "cell_type": "code",
      "source": [
        "# M, R 개수 확인 (M->Mine, R->Rock)\n",
        "sonar[60].value_counts()"
      ],
      "metadata": {
        "colab": {
          "base_uri": "https://localhost:8080/"
        },
        "id": "b_HY0me76qAg",
        "outputId": "8e65a5c0-4d7c-408b-d1df-5f137fc903ca"
      },
      "execution_count": null,
      "outputs": [
        {
          "output_type": "execute_result",
          "data": {
            "text/plain": [
              "M    111\n",
              "R     11\n",
              "Name: 60, dtype: int64"
            ]
          },
          "metadata": {},
          "execution_count": 118
        }
      ]
    },
    {
      "cell_type": "markdown",
      "source": [
        "DATA_SPLIT"
      ],
      "metadata": {
        "id": "32bfLlK49Szd"
      }
    },
    {
      "cell_type": "code",
      "source": [
        "# X, y 데이터 분류 (y=class_data)\n",
        "X = sonar.drop(columns=60,axis=1)\n",
        "y = sonar[60]\n",
        "X = X.fillna(0)\n",
        "y = y.fillna(0)"
      ],
      "metadata": {
        "id": "8MfsPsYZ60S2"
      },
      "execution_count": null,
      "outputs": []
    },
    {
      "cell_type": "code",
      "source": [
        "#Train, Test데이터 생성\n",
        "X_train, X_test, y_train, y_test = train_test_split(X, y ,test_size=0.1, stratify=y,random_state=1)"
      ],
      "metadata": {
        "id": "gWQ_nxRf7Muo"
      },
      "execution_count": null,
      "outputs": []
    },
    {
      "cell_type": "markdown",
      "source": [
        "MODEL"
      ],
      "metadata": {
        "id": "g934kGYC9X85"
      }
    },
    {
      "cell_type": "code",
      "source": [
        "model = RandomForestClassifier()\n",
        "model.fit(X_train, y_train)\n",
        "\n",
        "# predict the mode\n",
        "y_pred = model.predict(X_test)\n",
        "\n",
        "# performance evaluatio metrics\n",
        "print(classification_report(y_pred, y_test))"
      ],
      "metadata": {
        "colab": {
          "base_uri": "https://localhost:8080/"
        },
        "id": "fBBk6XvSfS5e",
        "outputId": "acc62ce7-5f2b-4cb1-d178-37100b236f4d"
      },
      "execution_count": null,
      "outputs": [
        {
          "output_type": "stream",
          "name": "stdout",
          "text": [
            "              precision    recall  f1-score   support\n",
            "\n",
            "           M       1.00      0.92      0.96        13\n",
            "           R       0.00      0.00      0.00         0\n",
            "\n",
            "    accuracy                           0.92        13\n",
            "   macro avg       0.50      0.46      0.48        13\n",
            "weighted avg       1.00      0.92      0.96        13\n",
            "\n"
          ]
        },
        {
          "output_type": "stream",
          "name": "stderr",
          "text": [
            "/usr/local/lib/python3.10/dist-packages/sklearn/metrics/_classification.py:1344: UndefinedMetricWarning: Recall and F-score are ill-defined and being set to 0.0 in labels with no true samples. Use `zero_division` parameter to control this behavior.\n",
            "  _warn_prf(average, modifier, msg_start, len(result))\n",
            "/usr/local/lib/python3.10/dist-packages/sklearn/metrics/_classification.py:1344: UndefinedMetricWarning: Recall and F-score are ill-defined and being set to 0.0 in labels with no true samples. Use `zero_division` parameter to control this behavior.\n",
            "  _warn_prf(average, modifier, msg_start, len(result))\n",
            "/usr/local/lib/python3.10/dist-packages/sklearn/metrics/_classification.py:1344: UndefinedMetricWarning: Recall and F-score are ill-defined and being set to 0.0 in labels with no true samples. Use `zero_division` parameter to control this behavior.\n",
            "  _warn_prf(average, modifier, msg_start, len(result))\n"
          ]
        }
      ]
    },
    {
      "cell_type": "code",
      "source": [
        "n_estimators = [5,20,50,100] # number of trees in the random forest\n",
        "max_features = ['auto', 'sqrt'] # number of features in consideration at every split\n",
        "max_depth = [int(x) for x in np.linspace(10, 120, num = 12)] # maximum number of levels allowed in each decision tree\n",
        "min_samples_split = [2, 6, 10] # minimum sample number to split a node\n",
        "min_samples_leaf = [1, 3, 4] # minimum sample number that can be stored in a leaf node\n",
        "bootstrap = [True, False] # method used to sample data points\n",
        "\n",
        "param_grid = {'n_estimators': n_estimators,\n",
        "\n",
        "'max_features': max_features,\n",
        "\n",
        "'max_depth': max_depth,\n",
        "\n",
        "'min_samples_split': min_samples_split,\n",
        "\n",
        "'min_samples_leaf': min_samples_leaf,\n",
        "\n",
        "'bootstrap': bootstrap}"
      ],
      "metadata": {
        "id": "uE-8ezDdftNM"
      },
      "execution_count": null,
      "outputs": []
    },
    {
      "cell_type": "code",
      "source": [
        "grid_search = GridSearchCV(RandomForestClassifier(),\n",
        "                           param_grid=param_grid)\n",
        "grid_search.fit(X_train, y_train)\n",
        "\n",
        "print(grid_search.best_params_)\n",
        "print(grid_search.best_score_)\n",
        "print(grid_search.best_estimator_)"
      ],
      "metadata": {
        "id": "wp9fSkEOfxUQ"
      },
      "execution_count": null,
      "outputs": []
    },
    {
      "cell_type": "code",
      "source": [
        "#grid_search.best_params_: {'bootstrap': True, 'max_depth': 30, 'max_features': 'auto', 'min_samples_leaf': 3, 'min_samples_split': 6, 'n_estimators': 5}\n",
        "#grid_search.best_score_: 0.945021645021645\n",
        "#grid_search.best_estimator_: RandomForestClassifier(max_depth=30, max_features='auto', min_samples_leaf=3, min_samples_split=6, n_estimators=5)\n",
        "\n",
        "model_grid = RandomForestClassifier(max_depth=30, max_features='auto', min_samples_leaf=3, min_samples_split=6, n_estimators=5)\n",
        "model_grid.fit(X_train, y_train)\n",
        "y_pred_grid = model.predict(X_test)\n",
        "\n",
        "print(classification_report(y_pred_grid, y_test))"
      ],
      "metadata": {
        "colab": {
          "base_uri": "https://localhost:8080/"
        },
        "id": "kQ8lLzrBgDSA",
        "outputId": "31a691fe-7e50-45e0-d40d-eb186a8649d0"
      },
      "execution_count": null,
      "outputs": [
        {
          "output_type": "stream",
          "name": "stdout",
          "text": [
            "              precision    recall  f1-score   support\n",
            "\n",
            "           M       1.00      0.92      0.96        13\n",
            "           R       0.00      0.00      0.00         0\n",
            "\n",
            "    accuracy                           0.92        13\n",
            "   macro avg       0.50      0.46      0.48        13\n",
            "weighted avg       1.00      0.92      0.96        13\n",
            "\n"
          ]
        },
        {
          "output_type": "stream",
          "name": "stderr",
          "text": [
            "/usr/local/lib/python3.10/dist-packages/sklearn/ensemble/_forest.py:424: FutureWarning: `max_features='auto'` has been deprecated in 1.1 and will be removed in 1.3. To keep the past behaviour, explicitly set `max_features='sqrt'` or remove this parameter as it is also the default value for RandomForestClassifiers and ExtraTreesClassifiers.\n",
            "  warn(\n",
            "/usr/local/lib/python3.10/dist-packages/sklearn/metrics/_classification.py:1344: UndefinedMetricWarning: Recall and F-score are ill-defined and being set to 0.0 in labels with no true samples. Use `zero_division` parameter to control this behavior.\n",
            "  _warn_prf(average, modifier, msg_start, len(result))\n",
            "/usr/local/lib/python3.10/dist-packages/sklearn/metrics/_classification.py:1344: UndefinedMetricWarning: Recall and F-score are ill-defined and being set to 0.0 in labels with no true samples. Use `zero_division` parameter to control this behavior.\n",
            "  _warn_prf(average, modifier, msg_start, len(result))\n",
            "/usr/local/lib/python3.10/dist-packages/sklearn/metrics/_classification.py:1344: UndefinedMetricWarning: Recall and F-score are ill-defined and being set to 0.0 in labels with no true samples. Use `zero_division` parameter to control this behavior.\n",
            "  _warn_prf(average, modifier, msg_start, len(result))\n"
          ]
        }
      ]
    },
    {
      "cell_type": "code",
      "source": [
        "random_search = RandomizedSearchCV(RandomForestClassifier(),\n",
        "                                   param_grid)\n",
        "random_search.fit(X_train, y_train)\n",
        "\n",
        "print(random_search.best_params_)\n",
        "print(random_search.best_score_)\n",
        "print(random_search.best_estimator_)"
      ],
      "metadata": {
        "id": "Owerje6egOgk"
      },
      "execution_count": null,
      "outputs": []
    },
    {
      "cell_type": "code",
      "source": [
        "#random_search.best_params_: {'n_estimators': 50, 'min_samples_split': 10, 'min_samples_leaf': 1, 'max_features': 'sqrt', 'max_depth': 60, 'bootstrap': False}\n",
        "#random_search.best_score_: 0.9268398268398268\n",
        "#random_search.best_estimator_: RandomForestClassifier(bootstrap=False, max_depth=60, min_samples_split=10, n_estimators=50)\n",
        "\n",
        "model_random = RandomForestClassifier(bootstrap=False, max_depth=60, min_samples_split=10, n_estimators=50)\n",
        "model_random.fit(X_train, y_train)\n",
        "y_pred_rand = model.predict(X_test)\n",
        "\n",
        "print(classification_report(y_pred_rand, y_test))"
      ],
      "metadata": {
        "colab": {
          "base_uri": "https://localhost:8080/"
        },
        "id": "3JV6KHN5gSsg",
        "outputId": "98015952-c264-4444-857b-886a3d088bd0"
      },
      "execution_count": null,
      "outputs": [
        {
          "output_type": "stream",
          "name": "stdout",
          "text": [
            "              precision    recall  f1-score   support\n",
            "\n",
            "           M       1.00      0.92      0.96        13\n",
            "           R       0.00      0.00      0.00         0\n",
            "\n",
            "    accuracy                           0.92        13\n",
            "   macro avg       0.50      0.46      0.48        13\n",
            "weighted avg       1.00      0.92      0.96        13\n",
            "\n"
          ]
        },
        {
          "output_type": "stream",
          "name": "stderr",
          "text": [
            "/usr/local/lib/python3.10/dist-packages/sklearn/metrics/_classification.py:1344: UndefinedMetricWarning: Recall and F-score are ill-defined and being set to 0.0 in labels with no true samples. Use `zero_division` parameter to control this behavior.\n",
            "  _warn_prf(average, modifier, msg_start, len(result))\n",
            "/usr/local/lib/python3.10/dist-packages/sklearn/metrics/_classification.py:1344: UndefinedMetricWarning: Recall and F-score are ill-defined and being set to 0.0 in labels with no true samples. Use `zero_division` parameter to control this behavior.\n",
            "  _warn_prf(average, modifier, msg_start, len(result))\n",
            "/usr/local/lib/python3.10/dist-packages/sklearn/metrics/_classification.py:1344: UndefinedMetricWarning: Recall and F-score are ill-defined and being set to 0.0 in labels with no true samples. Use `zero_division` parameter to control this behavior.\n",
            "  _warn_prf(average, modifier, msg_start, len(result))\n"
          ]
        }
      ]
    },
    {
      "cell_type": "markdown",
      "source": [
        "Making Predictive system"
      ],
      "metadata": {
        "id": "OGVVFe2Hn0Dp"
      }
    },
    {
      "cell_type": "code",
      "source": [
        "input_data=(0.0123,0.0309,0.0169,0.0313,0.0358,0.0102,0.0182,0.0579,0.1122,0.0835,0.0548,0.0847,0.2026,0.2557,0.1870,0.2032,0.1463,0.2849,0.5824,0.7728,0.7852,0.8515,0.5312,0.3653,0.5973,0.8275,1.0000,0.8673,0.6301,0.4591,0.3940,0.2576,0.2817,0.2641,0.2757,0.2698,0.3994,0.4576,0.3940,0.2522,0.1782,0.1354,0.0516,0.0337,0.0894,0.0861,0.0872,0.0445,0.0134,0.0217,0.0188,0.0133,0.0265,0.0224,0.0074,0.0118,0.0026,0.0092,0.0009,0.0044)\n",
        "\n",
        "input_data_as_numpy_array = np.asarray(input_data)\n",
        "input_data_reshaped = input_data_as_numpy_array.reshape(1,-1)\n",
        "\n",
        "#model\n",
        "prediction_model = model.predict(input_data_reshaped)\n",
        "print(prediction_model)\n",
        "\n",
        "if(prediction_model[0]=='R'):\n",
        "    print('This is a Rock')\n",
        "else:\n",
        "    print('This is a Mine')\n",
        "\n",
        "#grid\n",
        "prediction_grid = model_grid.predict(input_data_reshaped)\n",
        "print(prediction_grid)\n",
        "\n",
        "if(prediction_grid[0]=='R'):\n",
        "    print('This is a Rock')\n",
        "else:\n",
        "    print('This is a Mine')\n",
        "\n",
        "#random\n",
        "prediction_random = model_random.predict(input_data_reshaped)\n",
        "print(prediction_random)\n",
        "\n",
        "if(prediction_random[0]=='R'):\n",
        "    print('This is a Rock')\n",
        "else:\n",
        "    print('This is a Mine')"
      ],
      "metadata": {
        "colab": {
          "base_uri": "https://localhost:8080/"
        },
        "id": "OaIQ4uhSnqv0",
        "outputId": "c59ae105-ed42-40ab-c6d4-6381c83efe8f"
      },
      "execution_count": null,
      "outputs": [
        {
          "output_type": "stream",
          "name": "stdout",
          "text": [
            "['M']\n",
            "This is a Mine\n",
            "['M']\n",
            "This is a Mine\n",
            "['M']\n",
            "This is a Mine\n"
          ]
        }
      ]
    }
  ]
}